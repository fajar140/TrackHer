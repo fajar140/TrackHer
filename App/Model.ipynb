{
  "cells": [
    {
      "cell_type": "markdown",
      "metadata": {},
      "source": [
        "### Import Libraries"
      ]
    },
    {
      "cell_type": "code",
      "execution_count": 1,
      "metadata": {
        "id": "R2R17esErG8p"
      },
      "outputs": [],
      "source": [
        "import pandas as pd\n",
        "import numpy as np\n",
        "from sklearn.model_selection import train_test_split\n",
        "from sklearn.preprocessing import LabelEncoder\n",
        "from sklearn.metrics import mean_absolute_error\n",
        "from sklearn.preprocessing import StandardScaler\n",
        "import category_encoders as ce"
      ]
    },
    {
      "cell_type": "markdown",
      "metadata": {},
      "source": [
        "### Load Data"
      ]
    },
    {
      "cell_type": "code",
      "execution_count": 2,
      "metadata": {
        "id": "8J3e4ZVWrh2j"
      },
      "outputs": [],
      "source": [
        "data = pd.read_csv('FedCycleData.csv')"
      ]
    },
    {
      "cell_type": "markdown",
      "metadata": {},
      "source": [
        "### Check dataset"
      ]
    },
    {
      "cell_type": "code",
      "execution_count": 3,
      "metadata": {
        "colab": {
          "base_uri": "https://localhost:8080/"
        },
        "id": "VNOfbSpVtGPi",
        "outputId": "6a8d53e7-e82e-4c25-8fb2-0d9b7f1814bd"
      },
      "outputs": [
        {
          "data": {
            "text/plain": [
              "(1665, 80)"
            ]
          },
          "execution_count": 3,
          "metadata": {},
          "output_type": "execute_result"
        }
      ],
      "source": [
        "data.shape"
      ]
    },
    {
      "cell_type": "code",
      "execution_count": 4,
      "metadata": {
        "id": "YD5CvWEDribT"
      },
      "outputs": [],
      "source": [
        "data =data.replace(' ', np.nan)"
      ]
    },
    {
      "cell_type": "code",
      "execution_count": 5,
      "metadata": {
        "colab": {
          "base_uri": "https://localhost:8080/"
        },
        "id": "F9zDhq6WtN0i",
        "outputId": "8eb57090-d832-4299-d679-52818ce0c4df"
      },
      "outputs": [
        {
          "name": "stdout",
          "output_type": "stream",
          "text": [
            "Number of Columns without any missing values:  6\n",
            "\n",
            "Number of Columns with missing values :  74\n"
          ]
        }
      ],
      "source": [
        "cols_with_missing_cols= []\n",
        "cols_without_missing_values = []\n",
        "for cols in data.columns:\n",
        "    if data[cols].isnull().sum() == 0:\n",
        "        cols_without_missing_values.append(cols)\n",
        "\n",
        "    else:\n",
        "        cols_with_missing_cols.append(cols)\n",
        "\n",
        "print(f'Number of Columns without any missing values:  {len(cols_without_missing_values)}\\n')\n",
        "print(f'Number of Columns with missing values :  {len(cols_with_missing_cols)}')"
      ]
    },
    {
      "cell_type": "code",
      "execution_count": 6,
      "metadata": {},
      "outputs": [
        {
          "data": {
            "text/plain": [
              "['ClientID',\n",
              " 'CycleNumber',\n",
              " 'Group',\n",
              " 'CycleWithPeakorNot',\n",
              " 'ReproductiveCategory',\n",
              " 'LengthofCycle']"
            ]
          },
          "execution_count": 6,
          "metadata": {},
          "output_type": "execute_result"
        }
      ],
      "source": [
        "cols_without_missing_values"
      ]
    },
    {
      "cell_type": "code",
      "execution_count": 7,
      "metadata": {
        "id": "uJ209WiBtOir"
      },
      "outputs": [],
      "source": [
        "null = data.isnull().sum().sort_values(ascending=False)\n",
        "null_per = ((data.isnull().sum()) / (data.shape[0])).sort_values(ascending=False)*100.\n",
        "null_values = pd.DataFrame({\n",
        "    \"Column Name\": null.index,\n",
        "    \"Total Number of Missing Values\": null.values,\n",
        "    \"Missing Values in Percentage\": null_per.values\n",
        "})"
      ]
    },
    {
      "cell_type": "code",
      "execution_count": 8,
      "metadata": {
        "id": "V3fZ1-C_tQI7"
      },
      "outputs": [],
      "source": [
        "remove_cols = null_values[null_values[\"Missing Values in Percentage\"] >= 50][\"Column Name\"].tolist()\n",
        "data = data.drop(columns=remove_cols)"
      ]
    },
    {
      "cell_type": "code",
      "execution_count": 9,
      "metadata": {},
      "outputs": [
        {
          "data": {
            "text/plain": [
              "(1665, 24)"
            ]
          },
          "execution_count": 9,
          "metadata": {},
          "output_type": "execute_result"
        }
      ],
      "source": [
        "data.shape"
      ]
    },
    {
      "cell_type": "code",
      "execution_count": 10,
      "metadata": {},
      "outputs": [
        {
          "data": {
            "text/plain": [
              "ClientID                      object\n",
              "CycleNumber                    int64\n",
              "Group                          int64\n",
              "CycleWithPeakorNot             int64\n",
              "ReproductiveCategory           int64\n",
              "LengthofCycle                  int64\n",
              "EstimatedDayofOvulation       object\n",
              "LengthofLutealPhase           object\n",
              "FirstDayofHigh                object\n",
              "TotalNumberofHighDays         object\n",
              "TotalHighPostPeak             object\n",
              "TotalNumberofPeakDays         object\n",
              "TotalDaysofFertility          object\n",
              "TotalFertilityFormula         object\n",
              "LengthofMenses                object\n",
              "MensesScoreDayOne             object\n",
              "MensesScoreDayTwo             object\n",
              "MensesScoreDayThree           object\n",
              "MensesScoreDayFour            object\n",
              "MensesScoreDayFive            object\n",
              "TotalMensesScore              object\n",
              "NumberofDaysofIntercourse     object\n",
              "IntercourseInFertileWindow    object\n",
              "UnusualBleeding               object\n",
              "dtype: object"
            ]
          },
          "execution_count": 10,
          "metadata": {},
          "output_type": "execute_result"
        }
      ],
      "source": [
        "data.dtypes"
      ]
    },
    {
      "cell_type": "markdown",
      "metadata": {},
      "source": [
        "### Select Data to keep"
      ]
    },
    {
      "cell_type": "code",
      "execution_count": 11,
      "metadata": {
        "id": "kWjQtFkJrx-Z"
      },
      "outputs": [],
      "source": [
        "# List of columns to keep\n",
        "columns_to_keep = ['ReproductiveCategory', 'Group', 'CycleWithPeakorNot', 'LengthofCycle',\n",
        "                   'EstimatedDayofOvulation', 'LengthofLutealPhase',\n",
        "                   'LengthofMenses', 'TotalMensesScore', 'NumberofDaysofIntercourse',\n",
        "                   'IntercourseInFertileWindow','UnusualBleeding']"
      ]
    },
    {
      "cell_type": "code",
      "execution_count": 12,
      "metadata": {
        "id": "aQPs4wLjtVnZ"
      },
      "outputs": [],
      "source": [
        "data = data[columns_to_keep]"
      ]
    },
    {
      "cell_type": "code",
      "execution_count": 13,
      "metadata": {
        "colab": {
          "base_uri": "https://localhost:8080/"
        },
        "id": "VrfRtr4stWQq",
        "outputId": "ac453394-49ea-435d-9681-c880d3ec557f"
      },
      "outputs": [
        {
          "data": {
            "text/plain": [
              "(1665, 11)"
            ]
          },
          "execution_count": 13,
          "metadata": {},
          "output_type": "execute_result"
        }
      ],
      "source": [
        "data.shape"
      ]
    },
    {
      "cell_type": "markdown",
      "metadata": {},
      "source": [
        "### Convert data type to numeric"
      ]
    },
    {
      "cell_type": "code",
      "execution_count": 14,
      "metadata": {
        "colab": {
          "base_uri": "https://localhost:8080/"
        },
        "id": "86PE-7sRtcoL",
        "outputId": "b2cf2ecc-150a-4d63-c50c-91ad900e07ab"
      },
      "outputs": [
        {
          "data": {
            "text/plain": [
              "ReproductiveCategory           int64\n",
              "Group                          int64\n",
              "CycleWithPeakorNot             int64\n",
              "LengthofCycle                  int64\n",
              "EstimatedDayofOvulation       object\n",
              "LengthofLutealPhase           object\n",
              "LengthofMenses                object\n",
              "TotalMensesScore              object\n",
              "NumberofDaysofIntercourse     object\n",
              "IntercourseInFertileWindow    object\n",
              "UnusualBleeding               object\n",
              "dtype: object"
            ]
          },
          "execution_count": 14,
          "metadata": {},
          "output_type": "execute_result"
        }
      ],
      "source": [
        "data.dtypes"
      ]
    },
    {
      "cell_type": "code",
      "execution_count": 15,
      "metadata": {
        "id": "fjll08xrtdKs"
      },
      "outputs": [],
      "source": [
        "categorical_columns = data.select_dtypes(include= object).columns"
      ]
    },
    {
      "cell_type": "code",
      "execution_count": 16,
      "metadata": {
        "id": "XR62Zxp2te7S"
      },
      "outputs": [],
      "source": [
        "encoder = LabelEncoder()\n",
        "\n",
        "for cols in categorical_columns:\n",
        "        data[cols] = encoder.fit_transform(data[cols])"
      ]
    },
    {
      "cell_type": "markdown",
      "metadata": {},
      "source": [
        "### Check Selected Data"
      ]
    },
    {
      "cell_type": "code",
      "execution_count": 17,
      "metadata": {
        "id": "OTIp1hqktgdj"
      },
      "outputs": [],
      "source": [
        "for i in data.columns:\n",
        "    if ( data[i].isnull().sum() ) > 100:\n",
        "        data[i]= data[i].fillna(data[i].mean())"
      ]
    },
    {
      "cell_type": "code",
      "execution_count": 18,
      "metadata": {
        "colab": {
          "base_uri": "https://localhost:8080/"
        },
        "id": "7BZwDk_etixy",
        "outputId": "9e2257d2-8000-4f7a-9333-103a757c7c16"
      },
      "outputs": [
        {
          "data": {
            "text/plain": [
              "ReproductiveCategory          0\n",
              "Group                         0\n",
              "CycleWithPeakorNot            0\n",
              "LengthofCycle                 0\n",
              "EstimatedDayofOvulation       0\n",
              "LengthofLutealPhase           0\n",
              "LengthofMenses                0\n",
              "TotalMensesScore              0\n",
              "NumberofDaysofIntercourse     0\n",
              "IntercourseInFertileWindow    0\n",
              "UnusualBleeding               0\n",
              "dtype: int64"
            ]
          },
          "execution_count": 18,
          "metadata": {},
          "output_type": "execute_result"
        }
      ],
      "source": [
        "data.isnull().sum()"
      ]
    },
    {
      "cell_type": "markdown",
      "metadata": {},
      "source": [
        "### Identifying and Handling Outliers"
      ]
    },
    {
      "cell_type": "code",
      "execution_count": 19,
      "metadata": {
        "id": "4CABdvzltpMr"
      },
      "outputs": [],
      "source": [
        "outliers_percentages = []\n",
        "\n",
        "for col in data.columns:\n",
        "    q1 = data[col].quantile(0.25)\n",
        "    q3 = data[col].quantile(0.75)\n",
        "    iqr = q3 - q1\n",
        "\n",
        "    lower_bound = q1 - 1.5 * iqr\n",
        "    upper_bound = q3 + 1.5 * iqr\n",
        "\n",
        "    outliers_count = ((data[col] < lower_bound) | (data[col] > upper_bound)).sum()\n",
        "    outliers_percentage = (outliers_count / len(data[col])) * 100\n",
        "\n",
        "    outliers_percentages.append({'Column': col, 'Outlier Percentage': outliers_percentage})\n",
        "\n",
        "outliers_data = pd.DataFrame(outliers_percentages)\n",
        "outliers_data = outliers_data.sort_values(by='Outlier Percentage', ascending=False)"
      ]
    },
    {
      "cell_type": "code",
      "execution_count": 20,
      "metadata": {
        "id": "zO2VbkZxtrRS"
      },
      "outputs": [],
      "source": [
        "for col in data.columns:\n",
        "    q1 = data[col].quantile(0.25)\n",
        "    q3 = data[col].quantile(0.75)\n",
        "    iqr = q3 - q1\n",
        "\n",
        "    lower_bound = q1 - 1.5 * iqr\n",
        "    upper_bound = q3 + 1.5 * iqr\n",
        "\n",
        "    # Calculate outliers\n",
        "    outliers = (data[col] < lower_bound) | (data[col] > upper_bound)\n",
        "    outlier_percentage = outliers.mean() * 100\n",
        "\n",
        "\n",
        "    data[col] = data[col].where(~outliers, np.mean(data[col]))"
      ]
    },
    {
      "cell_type": "markdown",
      "metadata": {},
      "source": [
        "### Random Forest Regression Model"
      ]
    },
    {
      "cell_type": "code",
      "execution_count": 21,
      "metadata": {},
      "outputs": [],
      "source": [
        "from sklearn.ensemble import RandomForestRegressor\n",
        "from sklearn.multioutput import MultiOutputRegressor\n",
        "from sklearn.preprocessing import StandardScaler\n",
        "from sklearn.model_selection import train_test_split\n",
        "from sklearn.metrics import mean_absolute_error, mean_squared_error\n",
        "import numpy as np\n",
        "import pandas as pd\n",
        "import joblib"
      ]
    },
    {
      "cell_type": "code",
      "execution_count": 22,
      "metadata": {
        "id": "BS_qOSIuttlS"
      },
      "outputs": [],
      "source": [
        "# Define features and targets\n",
        "x = data.drop(['LengthofCycle', 'EstimatedDayofOvulation'], axis=1)\n",
        "y = data[['LengthofCycle', 'EstimatedDayofOvulation']]"
      ]
    },
    {
      "cell_type": "code",
      "execution_count": 23,
      "metadata": {
        "id": "lWxB1s2Htusq"
      },
      "outputs": [],
      "source": [
        "# Scale features\n",
        "scaler = StandardScaler()\n",
        "x = scaler.fit_transform(x)"
      ]
    },
    {
      "cell_type": "code",
      "execution_count": 24,
      "metadata": {
        "id": "J8qGiL9atv5K"
      },
      "outputs": [],
      "source": [
        "# Split data\n",
        "x_train, x_test, y_train, y_test = train_test_split(x, y, test_size=0.8, random_state=42)"
      ]
    },
    {
      "cell_type": "markdown",
      "metadata": {},
      "source": [
        "### Model Initialization and Training"
      ]
    },
    {
      "cell_type": "code",
      "execution_count": 25,
      "metadata": {
        "id": "y4phfeyitzrD"
      },
      "outputs": [],
      "source": [
        "from sklearn.ensemble import RandomForestRegressor\n",
        "from sklearn.metrics import mean_squared_error"
      ]
    },
    {
      "cell_type": "code",
      "execution_count": 26,
      "metadata": {
        "id": "EmncL-hlt1KT"
      },
      "outputs": [
        {
          "data": {
            "text/html": [
              "<style>#sk-container-id-1 {\n",
              "  /* Definition of color scheme common for light and dark mode */\n",
              "  --sklearn-color-text: black;\n",
              "  --sklearn-color-line: gray;\n",
              "  /* Definition of color scheme for unfitted estimators */\n",
              "  --sklearn-color-unfitted-level-0: #fff5e6;\n",
              "  --sklearn-color-unfitted-level-1: #f6e4d2;\n",
              "  --sklearn-color-unfitted-level-2: #ffe0b3;\n",
              "  --sklearn-color-unfitted-level-3: chocolate;\n",
              "  /* Definition of color scheme for fitted estimators */\n",
              "  --sklearn-color-fitted-level-0: #f0f8ff;\n",
              "  --sklearn-color-fitted-level-1: #d4ebff;\n",
              "  --sklearn-color-fitted-level-2: #b3dbfd;\n",
              "  --sklearn-color-fitted-level-3: cornflowerblue;\n",
              "\n",
              "  /* Specific color for light theme */\n",
              "  --sklearn-color-text-on-default-background: var(--sg-text-color, var(--theme-code-foreground, var(--jp-content-font-color1, black)));\n",
              "  --sklearn-color-background: var(--sg-background-color, var(--theme-background, var(--jp-layout-color0, white)));\n",
              "  --sklearn-color-border-box: var(--sg-text-color, var(--theme-code-foreground, var(--jp-content-font-color1, black)));\n",
              "  --sklearn-color-icon: #696969;\n",
              "\n",
              "  @media (prefers-color-scheme: dark) {\n",
              "    /* Redefinition of color scheme for dark theme */\n",
              "    --sklearn-color-text-on-default-background: var(--sg-text-color, var(--theme-code-foreground, var(--jp-content-font-color1, white)));\n",
              "    --sklearn-color-background: var(--sg-background-color, var(--theme-background, var(--jp-layout-color0, #111)));\n",
              "    --sklearn-color-border-box: var(--sg-text-color, var(--theme-code-foreground, var(--jp-content-font-color1, white)));\n",
              "    --sklearn-color-icon: #878787;\n",
              "  }\n",
              "}\n",
              "\n",
              "#sk-container-id-1 {\n",
              "  color: var(--sklearn-color-text);\n",
              "}\n",
              "\n",
              "#sk-container-id-1 pre {\n",
              "  padding: 0;\n",
              "}\n",
              "\n",
              "#sk-container-id-1 input.sk-hidden--visually {\n",
              "  border: 0;\n",
              "  clip: rect(1px 1px 1px 1px);\n",
              "  clip: rect(1px, 1px, 1px, 1px);\n",
              "  height: 1px;\n",
              "  margin: -1px;\n",
              "  overflow: hidden;\n",
              "  padding: 0;\n",
              "  position: absolute;\n",
              "  width: 1px;\n",
              "}\n",
              "\n",
              "#sk-container-id-1 div.sk-dashed-wrapped {\n",
              "  border: 1px dashed var(--sklearn-color-line);\n",
              "  margin: 0 0.4em 0.5em 0.4em;\n",
              "  box-sizing: border-box;\n",
              "  padding-bottom: 0.4em;\n",
              "  background-color: var(--sklearn-color-background);\n",
              "}\n",
              "\n",
              "#sk-container-id-1 div.sk-container {\n",
              "  /* jupyter's `normalize.less` sets `[hidden] { display: none; }`\n",
              "     but bootstrap.min.css set `[hidden] { display: none !important; }`\n",
              "     so we also need the `!important` here to be able to override the\n",
              "     default hidden behavior on the sphinx rendered scikit-learn.org.\n",
              "     See: https://github.com/scikit-learn/scikit-learn/issues/21755 */\n",
              "  display: inline-block !important;\n",
              "  position: relative;\n",
              "}\n",
              "\n",
              "#sk-container-id-1 div.sk-text-repr-fallback {\n",
              "  display: none;\n",
              "}\n",
              "\n",
              "div.sk-parallel-item,\n",
              "div.sk-serial,\n",
              "div.sk-item {\n",
              "  /* draw centered vertical line to link estimators */\n",
              "  background-image: linear-gradient(var(--sklearn-color-text-on-default-background), var(--sklearn-color-text-on-default-background));\n",
              "  background-size: 2px 100%;\n",
              "  background-repeat: no-repeat;\n",
              "  background-position: center center;\n",
              "}\n",
              "\n",
              "/* Parallel-specific style estimator block */\n",
              "\n",
              "#sk-container-id-1 div.sk-parallel-item::after {\n",
              "  content: \"\";\n",
              "  width: 100%;\n",
              "  border-bottom: 2px solid var(--sklearn-color-text-on-default-background);\n",
              "  flex-grow: 1;\n",
              "}\n",
              "\n",
              "#sk-container-id-1 div.sk-parallel {\n",
              "  display: flex;\n",
              "  align-items: stretch;\n",
              "  justify-content: center;\n",
              "  background-color: var(--sklearn-color-background);\n",
              "  position: relative;\n",
              "}\n",
              "\n",
              "#sk-container-id-1 div.sk-parallel-item {\n",
              "  display: flex;\n",
              "  flex-direction: column;\n",
              "}\n",
              "\n",
              "#sk-container-id-1 div.sk-parallel-item:first-child::after {\n",
              "  align-self: flex-end;\n",
              "  width: 50%;\n",
              "}\n",
              "\n",
              "#sk-container-id-1 div.sk-parallel-item:last-child::after {\n",
              "  align-self: flex-start;\n",
              "  width: 50%;\n",
              "}\n",
              "\n",
              "#sk-container-id-1 div.sk-parallel-item:only-child::after {\n",
              "  width: 0;\n",
              "}\n",
              "\n",
              "/* Serial-specific style estimator block */\n",
              "\n",
              "#sk-container-id-1 div.sk-serial {\n",
              "  display: flex;\n",
              "  flex-direction: column;\n",
              "  align-items: center;\n",
              "  background-color: var(--sklearn-color-background);\n",
              "  padding-right: 1em;\n",
              "  padding-left: 1em;\n",
              "}\n",
              "\n",
              "\n",
              "/* Toggleable style: style used for estimator/Pipeline/ColumnTransformer box that is\n",
              "clickable and can be expanded/collapsed.\n",
              "- Pipeline and ColumnTransformer use this feature and define the default style\n",
              "- Estimators will overwrite some part of the style using the `sk-estimator` class\n",
              "*/\n",
              "\n",
              "/* Pipeline and ColumnTransformer style (default) */\n",
              "\n",
              "#sk-container-id-1 div.sk-toggleable {\n",
              "  /* Default theme specific background. It is overwritten whether we have a\n",
              "  specific estimator or a Pipeline/ColumnTransformer */\n",
              "  background-color: var(--sklearn-color-background);\n",
              "}\n",
              "\n",
              "/* Toggleable label */\n",
              "#sk-container-id-1 label.sk-toggleable__label {\n",
              "  cursor: pointer;\n",
              "  display: block;\n",
              "  width: 100%;\n",
              "  margin-bottom: 0;\n",
              "  padding: 0.5em;\n",
              "  box-sizing: border-box;\n",
              "  text-align: center;\n",
              "}\n",
              "\n",
              "#sk-container-id-1 label.sk-toggleable__label-arrow:before {\n",
              "  /* Arrow on the left of the label */\n",
              "  content: \"▸\";\n",
              "  float: left;\n",
              "  margin-right: 0.25em;\n",
              "  color: var(--sklearn-color-icon);\n",
              "}\n",
              "\n",
              "#sk-container-id-1 label.sk-toggleable__label-arrow:hover:before {\n",
              "  color: var(--sklearn-color-text);\n",
              "}\n",
              "\n",
              "/* Toggleable content - dropdown */\n",
              "\n",
              "#sk-container-id-1 div.sk-toggleable__content {\n",
              "  max-height: 0;\n",
              "  max-width: 0;\n",
              "  overflow: hidden;\n",
              "  text-align: left;\n",
              "  /* unfitted */\n",
              "  background-color: var(--sklearn-color-unfitted-level-0);\n",
              "}\n",
              "\n",
              "#sk-container-id-1 div.sk-toggleable__content.fitted {\n",
              "  /* fitted */\n",
              "  background-color: var(--sklearn-color-fitted-level-0);\n",
              "}\n",
              "\n",
              "#sk-container-id-1 div.sk-toggleable__content pre {\n",
              "  margin: 0.2em;\n",
              "  border-radius: 0.25em;\n",
              "  color: var(--sklearn-color-text);\n",
              "  /* unfitted */\n",
              "  background-color: var(--sklearn-color-unfitted-level-0);\n",
              "}\n",
              "\n",
              "#sk-container-id-1 div.sk-toggleable__content.fitted pre {\n",
              "  /* unfitted */\n",
              "  background-color: var(--sklearn-color-fitted-level-0);\n",
              "}\n",
              "\n",
              "#sk-container-id-1 input.sk-toggleable__control:checked~div.sk-toggleable__content {\n",
              "  /* Expand drop-down */\n",
              "  max-height: 200px;\n",
              "  max-width: 100%;\n",
              "  overflow: auto;\n",
              "}\n",
              "\n",
              "#sk-container-id-1 input.sk-toggleable__control:checked~label.sk-toggleable__label-arrow:before {\n",
              "  content: \"▾\";\n",
              "}\n",
              "\n",
              "/* Pipeline/ColumnTransformer-specific style */\n",
              "\n",
              "#sk-container-id-1 div.sk-label input.sk-toggleable__control:checked~label.sk-toggleable__label {\n",
              "  color: var(--sklearn-color-text);\n",
              "  background-color: var(--sklearn-color-unfitted-level-2);\n",
              "}\n",
              "\n",
              "#sk-container-id-1 div.sk-label.fitted input.sk-toggleable__control:checked~label.sk-toggleable__label {\n",
              "  background-color: var(--sklearn-color-fitted-level-2);\n",
              "}\n",
              "\n",
              "/* Estimator-specific style */\n",
              "\n",
              "/* Colorize estimator box */\n",
              "#sk-container-id-1 div.sk-estimator input.sk-toggleable__control:checked~label.sk-toggleable__label {\n",
              "  /* unfitted */\n",
              "  background-color: var(--sklearn-color-unfitted-level-2);\n",
              "}\n",
              "\n",
              "#sk-container-id-1 div.sk-estimator.fitted input.sk-toggleable__control:checked~label.sk-toggleable__label {\n",
              "  /* fitted */\n",
              "  background-color: var(--sklearn-color-fitted-level-2);\n",
              "}\n",
              "\n",
              "#sk-container-id-1 div.sk-label label.sk-toggleable__label,\n",
              "#sk-container-id-1 div.sk-label label {\n",
              "  /* The background is the default theme color */\n",
              "  color: var(--sklearn-color-text-on-default-background);\n",
              "}\n",
              "\n",
              "/* On hover, darken the color of the background */\n",
              "#sk-container-id-1 div.sk-label:hover label.sk-toggleable__label {\n",
              "  color: var(--sklearn-color-text);\n",
              "  background-color: var(--sklearn-color-unfitted-level-2);\n",
              "}\n",
              "\n",
              "/* Label box, darken color on hover, fitted */\n",
              "#sk-container-id-1 div.sk-label.fitted:hover label.sk-toggleable__label.fitted {\n",
              "  color: var(--sklearn-color-text);\n",
              "  background-color: var(--sklearn-color-fitted-level-2);\n",
              "}\n",
              "\n",
              "/* Estimator label */\n",
              "\n",
              "#sk-container-id-1 div.sk-label label {\n",
              "  font-family: monospace;\n",
              "  font-weight: bold;\n",
              "  display: inline-block;\n",
              "  line-height: 1.2em;\n",
              "}\n",
              "\n",
              "#sk-container-id-1 div.sk-label-container {\n",
              "  text-align: center;\n",
              "}\n",
              "\n",
              "/* Estimator-specific */\n",
              "#sk-container-id-1 div.sk-estimator {\n",
              "  font-family: monospace;\n",
              "  border: 1px dotted var(--sklearn-color-border-box);\n",
              "  border-radius: 0.25em;\n",
              "  box-sizing: border-box;\n",
              "  margin-bottom: 0.5em;\n",
              "  /* unfitted */\n",
              "  background-color: var(--sklearn-color-unfitted-level-0);\n",
              "}\n",
              "\n",
              "#sk-container-id-1 div.sk-estimator.fitted {\n",
              "  /* fitted */\n",
              "  background-color: var(--sklearn-color-fitted-level-0);\n",
              "}\n",
              "\n",
              "/* on hover */\n",
              "#sk-container-id-1 div.sk-estimator:hover {\n",
              "  /* unfitted */\n",
              "  background-color: var(--sklearn-color-unfitted-level-2);\n",
              "}\n",
              "\n",
              "#sk-container-id-1 div.sk-estimator.fitted:hover {\n",
              "  /* fitted */\n",
              "  background-color: var(--sklearn-color-fitted-level-2);\n",
              "}\n",
              "\n",
              "/* Specification for estimator info (e.g. \"i\" and \"?\") */\n",
              "\n",
              "/* Common style for \"i\" and \"?\" */\n",
              "\n",
              ".sk-estimator-doc-link,\n",
              "a:link.sk-estimator-doc-link,\n",
              "a:visited.sk-estimator-doc-link {\n",
              "  float: right;\n",
              "  font-size: smaller;\n",
              "  line-height: 1em;\n",
              "  font-family: monospace;\n",
              "  background-color: var(--sklearn-color-background);\n",
              "  border-radius: 1em;\n",
              "  height: 1em;\n",
              "  width: 1em;\n",
              "  text-decoration: none !important;\n",
              "  margin-left: 1ex;\n",
              "  /* unfitted */\n",
              "  border: var(--sklearn-color-unfitted-level-1) 1pt solid;\n",
              "  color: var(--sklearn-color-unfitted-level-1);\n",
              "}\n",
              "\n",
              ".sk-estimator-doc-link.fitted,\n",
              "a:link.sk-estimator-doc-link.fitted,\n",
              "a:visited.sk-estimator-doc-link.fitted {\n",
              "  /* fitted */\n",
              "  border: var(--sklearn-color-fitted-level-1) 1pt solid;\n",
              "  color: var(--sklearn-color-fitted-level-1);\n",
              "}\n",
              "\n",
              "/* On hover */\n",
              "div.sk-estimator:hover .sk-estimator-doc-link:hover,\n",
              ".sk-estimator-doc-link:hover,\n",
              "div.sk-label-container:hover .sk-estimator-doc-link:hover,\n",
              ".sk-estimator-doc-link:hover {\n",
              "  /* unfitted */\n",
              "  background-color: var(--sklearn-color-unfitted-level-3);\n",
              "  color: var(--sklearn-color-background);\n",
              "  text-decoration: none;\n",
              "}\n",
              "\n",
              "div.sk-estimator.fitted:hover .sk-estimator-doc-link.fitted:hover,\n",
              ".sk-estimator-doc-link.fitted:hover,\n",
              "div.sk-label-container:hover .sk-estimator-doc-link.fitted:hover,\n",
              ".sk-estimator-doc-link.fitted:hover {\n",
              "  /* fitted */\n",
              "  background-color: var(--sklearn-color-fitted-level-3);\n",
              "  color: var(--sklearn-color-background);\n",
              "  text-decoration: none;\n",
              "}\n",
              "\n",
              "/* Span, style for the box shown on hovering the info icon */\n",
              ".sk-estimator-doc-link span {\n",
              "  display: none;\n",
              "  z-index: 9999;\n",
              "  position: relative;\n",
              "  font-weight: normal;\n",
              "  right: .2ex;\n",
              "  padding: .5ex;\n",
              "  margin: .5ex;\n",
              "  width: min-content;\n",
              "  min-width: 20ex;\n",
              "  max-width: 50ex;\n",
              "  color: var(--sklearn-color-text);\n",
              "  box-shadow: 2pt 2pt 4pt #999;\n",
              "  /* unfitted */\n",
              "  background: var(--sklearn-color-unfitted-level-0);\n",
              "  border: .5pt solid var(--sklearn-color-unfitted-level-3);\n",
              "}\n",
              "\n",
              ".sk-estimator-doc-link.fitted span {\n",
              "  /* fitted */\n",
              "  background: var(--sklearn-color-fitted-level-0);\n",
              "  border: var(--sklearn-color-fitted-level-3);\n",
              "}\n",
              "\n",
              ".sk-estimator-doc-link:hover span {\n",
              "  display: block;\n",
              "}\n",
              "\n",
              "/* \"?\"-specific style due to the `<a>` HTML tag */\n",
              "\n",
              "#sk-container-id-1 a.estimator_doc_link {\n",
              "  float: right;\n",
              "  font-size: 1rem;\n",
              "  line-height: 1em;\n",
              "  font-family: monospace;\n",
              "  background-color: var(--sklearn-color-background);\n",
              "  border-radius: 1rem;\n",
              "  height: 1rem;\n",
              "  width: 1rem;\n",
              "  text-decoration: none;\n",
              "  /* unfitted */\n",
              "  color: var(--sklearn-color-unfitted-level-1);\n",
              "  border: var(--sklearn-color-unfitted-level-1) 1pt solid;\n",
              "}\n",
              "\n",
              "#sk-container-id-1 a.estimator_doc_link.fitted {\n",
              "  /* fitted */\n",
              "  border: var(--sklearn-color-fitted-level-1) 1pt solid;\n",
              "  color: var(--sklearn-color-fitted-level-1);\n",
              "}\n",
              "\n",
              "/* On hover */\n",
              "#sk-container-id-1 a.estimator_doc_link:hover {\n",
              "  /* unfitted */\n",
              "  background-color: var(--sklearn-color-unfitted-level-3);\n",
              "  color: var(--sklearn-color-background);\n",
              "  text-decoration: none;\n",
              "}\n",
              "\n",
              "#sk-container-id-1 a.estimator_doc_link.fitted:hover {\n",
              "  /* fitted */\n",
              "  background-color: var(--sklearn-color-fitted-level-3);\n",
              "}\n",
              "</style><div id=\"sk-container-id-1\" class=\"sk-top-container\"><div class=\"sk-text-repr-fallback\"><pre>MultiOutputRegressor(estimator=RandomForestRegressor(max_depth=67,\n",
              "                                                     n_estimators=49))</pre><b>In a Jupyter environment, please rerun this cell to show the HTML representation or trust the notebook. <br />On GitHub, the HTML representation is unable to render, please try loading this page with nbviewer.org.</b></div><div class=\"sk-container\" hidden><div class=\"sk-item sk-dashed-wrapped\"><div class=\"sk-label-container\"><div class=\"sk-label fitted sk-toggleable\"><input class=\"sk-toggleable__control sk-hidden--visually\" id=\"sk-estimator-id-1\" type=\"checkbox\" ><label for=\"sk-estimator-id-1\" class=\"sk-toggleable__label fitted sk-toggleable__label-arrow fitted\">&nbsp;&nbsp;MultiOutputRegressor<a class=\"sk-estimator-doc-link fitted\" rel=\"noreferrer\" target=\"_blank\" href=\"https://scikit-learn.org/1.5/modules/generated/sklearn.multioutput.MultiOutputRegressor.html\">?<span>Documentation for MultiOutputRegressor</span></a><span class=\"sk-estimator-doc-link fitted\">i<span>Fitted</span></span></label><div class=\"sk-toggleable__content fitted\"><pre>MultiOutputRegressor(estimator=RandomForestRegressor(max_depth=67,\n",
              "                                                     n_estimators=49))</pre></div> </div></div><div class=\"sk-parallel\"><div class=\"sk-parallel-item\"><div class=\"sk-item\"><div class=\"sk-label-container\"><div class=\"sk-label fitted sk-toggleable\"><input class=\"sk-toggleable__control sk-hidden--visually\" id=\"sk-estimator-id-2\" type=\"checkbox\" ><label for=\"sk-estimator-id-2\" class=\"sk-toggleable__label fitted sk-toggleable__label-arrow fitted\">estimator: RandomForestRegressor</label><div class=\"sk-toggleable__content fitted\"><pre>RandomForestRegressor(max_depth=67, n_estimators=49)</pre></div> </div></div><div class=\"sk-serial\"><div class=\"sk-item\"><div class=\"sk-estimator fitted sk-toggleable\"><input class=\"sk-toggleable__control sk-hidden--visually\" id=\"sk-estimator-id-3\" type=\"checkbox\" ><label for=\"sk-estimator-id-3\" class=\"sk-toggleable__label fitted sk-toggleable__label-arrow fitted\">&nbsp;RandomForestRegressor<a class=\"sk-estimator-doc-link fitted\" rel=\"noreferrer\" target=\"_blank\" href=\"https://scikit-learn.org/1.5/modules/generated/sklearn.ensemble.RandomForestRegressor.html\">?<span>Documentation for RandomForestRegressor</span></a></label><div class=\"sk-toggleable__content fitted\"><pre>RandomForestRegressor(max_depth=67, n_estimators=49)</pre></div> </div></div></div></div></div></div></div></div></div>"
            ],
            "text/plain": [
              "MultiOutputRegressor(estimator=RandomForestRegressor(max_depth=67,\n",
              "                                                     n_estimators=49))"
            ]
          },
          "execution_count": 26,
          "metadata": {},
          "output_type": "execute_result"
        }
      ],
      "source": [
        "# Train MultiOutput Regressor with Random Forest\n",
        "rf_model = MultiOutputRegressor(\n",
        "    RandomForestRegressor(n_estimators=49, criterion=\"squared_error\", max_depth=67)\n",
        ")\n",
        "rf_model.fit(x_train, y_train)\n"
      ]
    },
    {
      "cell_type": "code",
      "execution_count": 27,
      "metadata": {
        "colab": {
          "base_uri": "https://localhost:8080/",
          "height": 74
        },
        "id": "TX8vi0yrt2fj",
        "outputId": "010179f4-4f82-4424-faea-a8b36dd8a823"
      },
      "outputs": [],
      "source": [
        "# Predictions\n",
        "y_pred = rf_model.predict(x_test)"
      ]
    },
    {
      "cell_type": "markdown",
      "metadata": {},
      "source": [
        "### Model Prediction and Evaluation"
      ]
    },
    {
      "cell_type": "code",
      "execution_count": 28,
      "metadata": {
        "id": "-DDIS8UPt317"
      },
      "outputs": [
        {
          "name": "stdout",
          "output_type": "stream",
          "text": [
            "Mean Absolute Error (Length of Cycle): 2.4512431458722137\n",
            "Root Mean Squared Error (Length of Cycle): 3.10900431568746\n"
          ]
        }
      ],
      "source": [
        "# Metrics for LengthofCycle\n",
        "mae_length = mean_absolute_error(y_test.iloc[:, 0], y_pred[:, 0])\n",
        "rmse_length = np.sqrt(mean_squared_error(y_test.iloc[:, 0], y_pred[:, 0]))\n",
        "\n",
        "print(f'Mean Absolute Error (Length of Cycle): {mae_length}')\n",
        "print(f'Root Mean Squared Error (Length of Cycle): {rmse_length}')"
      ]
    },
    {
      "cell_type": "code",
      "execution_count": 29,
      "metadata": {
        "colab": {
          "base_uri": "https://localhost:8080/"
        },
        "id": "8A57t5KNt5Tz",
        "outputId": "381e9f44-4561-40b0-bba0-3c06b312d187"
      },
      "outputs": [
        {
          "name": "stdout",
          "output_type": "stream",
          "text": [
            "Mean Absolute Error (Estimated Day of Ovulation): 2.3639230988927626\n",
            "Root Mean Squared Error (Estimated Day of Ovulation): 3.128102858409152\n"
          ]
        }
      ],
      "source": [
        "# Metrics for EstimatedDayofOvulation\n",
        "mae_ovulation = mean_absolute_error(y_test.iloc[:, 1], y_pred[:, 1])\n",
        "rmse_ovulation = np.sqrt(mean_squared_error(y_test.iloc[:, 1], y_pred[:, 1]))\n",
        "\n",
        "print(f'Mean Absolute Error (Estimated Day of Ovulation): {mae_ovulation}')\n",
        "print(f'Root Mean Squared Error (Estimated Day of Ovulation): {rmse_ovulation}')"
      ]
    },
    {
      "cell_type": "markdown",
      "metadata": {},
      "source": [
        "### Save Model and Scaler"
      ]
    },
    {
      "cell_type": "code",
      "execution_count": 30,
      "metadata": {},
      "outputs": [
        {
          "data": {
            "text/plain": [
              "['scaler.pkl']"
            ]
          },
          "execution_count": 30,
          "metadata": {},
          "output_type": "execute_result"
        }
      ],
      "source": [
        "# Save the model and scaler\n",
        "joblib.dump(rf_model, 'trained_rf_model.pkl')\n",
        "joblib.dump(scaler, 'scaler.pkl')"
      ]
    },
    {
      "cell_type": "code",
      "execution_count": null,
      "metadata": {
        "colab": {
          "base_uri": "https://localhost:8080/"
        },
        "id": "0NgsUl_mt7Mz",
        "outputId": "684b07b3-a288-46c0-f5e1-cf3736bf9e6c"
      },
      "outputs": [],
      "source": [
        "# Prediction Function\n",
        "def predict_cycle_length_and_ovulation():\n",
        "    # Load the model and scaler\n",
        "    model = joblib.load('trained_rf_model.pkl')\n",
        "    scaler = joblib.load('scaler.pkl')"
      ]
    },
    {
      "cell_type": "code",
      "execution_count": 32,
      "metadata": {},
      "outputs": [
        {
          "data": {
            "text/plain": [
              "['scaler.pkl']"
            ]
          },
          "execution_count": 32,
          "metadata": {},
          "output_type": "execute_result"
        }
      ],
      "source": [
        "joblib.dump(scaler, 'scaler.pkl')"
      ]
    },
    {
      "cell_type": "markdown",
      "metadata": {},
      "source": [
        "### Test Model"
      ]
    },
    {
      "cell_type": "code",
      "execution_count": 34,
      "metadata": {},
      "outputs": [
        {
          "name": "stdout",
          "output_type": "stream",
          "text": [
            "Predicted Menstrual Cycle Length: 29 days\n",
            "Predicted Estimated Day of Ovulation: 2\n"
          ]
        }
      ],
      "source": [
        "# Prediction Function\n",
        "def predict_cycle_length_and_ovulation():\n",
        "    # Load the model and scaler\n",
        "    model = joblib.load('trained_rf_model.pkl')\n",
        "    scaler = joblib.load('scaler.pkl')\n",
        "\n",
        "    # Prompt user for input\n",
        "    user_input = {\n",
        "        'ReproductiveCategory': int(input(\"Enter Reproductive Category (0 for regular, 1 for irregular): \")),\n",
        "        'Group': int(input(\"Enter Group (0 for control, 1 for experimental): \")),\n",
        "        'CycleWithPeakorNot': int(input(\"Enter Cycle with peak (0 for No, 1 for Yes): \")),\n",
        "        'LengthofLutealPhase': int(input(\"Enter Length of Luteal Phase (in days): \")),\n",
        "        'LengthofMenses': int(input(\"Enter Length of Menses (in days): \")),\n",
        "        'TotalMensesScore': int(input(\"Enter Total Menses Score: \")),\n",
        "        'NumberofDaysofIntercourse': int(input(\"Enter Number of Days of Intercourse: \")),\n",
        "        'IntercourseInFertileWindow': int(input(\"Enter Intercourse In Fertile Window (0 for No, 1 for Yes): \")),\n",
        "        'UnusualBleeding': int(input(\"Enter Unusual Bleeding (0 for No, 1 for Yes): \"))\n",
        "    }\n",
        "\n",
        "    # Convert to DataFrame\n",
        "    input_data = pd.DataFrame([user_input])\n",
        "\n",
        "    # Scale the input data\n",
        "    input_data_scaled = scaler.transform(input_data)\n",
        "\n",
        "    # Predict\n",
        "    predictions = model.predict(input_data_scaled)\n",
        "    predicted_length, predicted_ovulation = predictions[0]\n",
        "\n",
        "    print(f'Predicted Menstrual Cycle Length: {round(predicted_length)} days')\n",
        "    print(f'Predicted Estimated Day of Ovulation: {round(predicted_ovulation)}')\n",
        "\n",
        "# Call the prediction function\n",
        "predict_cycle_length_and_ovulation()"
      ]
    },
    {
      "cell_type": "code",
      "execution_count": 35,
      "metadata": {},
      "outputs": [
        {
          "name": "stdout",
          "output_type": "stream",
          "text": [
            "Predicted Menstrual Cycle Length: 33 days\n"
          ]
        },
        {
          "name": "stderr",
          "output_type": "stream",
          "text": [
            "C:\\Users\\fajer\\AppData\\Roaming\\Python\\Python310\\site-packages\\sklearn\\base.py:486: UserWarning: X has feature names, but RandomForestRegressor was fitted without feature names\n",
            "  warnings.warn(\n"
          ]
        }
      ],
      "source": [
        "import joblib\n",
        "import pandas as pd\n",
        "from sklearn.preprocessing import StandardScaler, LabelEncoder\n",
        "\n",
        "# Load the model\n",
        "model = joblib.load('trained_rf_model.pkl')\n",
        "\n",
        "# Prompt user for input\n",
        "reproductive_category = int(input(\"Enter Reproductive Category (0 for regular, 1 for irregular): \"))\n",
        "group = int(input(\"Enter Group (0 for control, 1 for experimental): \"))\n",
        "cycle_with_peak_or_not = int (input(\"Enter Cycle with peak (0 for No, 1 for Yes): \"))\n",
        "estimated_day_of_ovulation = int(input(\"Enter Estimated Day of Ovulation: \"))\n",
        "length_of_luteal_phase = int(input(\"Enter Length of Luteal Phase (in days): \"))\n",
        "length_of_menses = int(input(\"Enter Length of Menses (in days): \"))\n",
        "total_menses_score = int(input(\"Enter Total Menses Score: \"))\n",
        "number_of_days_of_intercourse = int(input(\"Enter Number of Days of Intercourse: \"))\n",
        "intercourse_in_fertile_window = int(input(\"Enter Intercourse In Fertile Window (0 for No, 1 for Yes): \"))\n",
        "unusual_bleeding = int(input(\"Enter Unusual Bleeding (0 for no, 1 for yes): \"))\n",
        "\n",
        "# Create DataFrame with user input\n",
        "input_data = pd.DataFrame({\n",
        "    'ReproductiveCategory': [reproductive_category],\n",
        "    'Group': [group],\n",
        "    'CycleWithPeakorNot': [cycle_with_peak_or_not],\n",
        "    'EstimatedDayofOvulation': [estimated_day_of_ovulation],\n",
        "    'LengthofLutealPhase': [length_of_luteal_phase],\n",
        "    'LengthofMenses': [length_of_menses],\n",
        "    'TotalMensesScore': [total_menses_score],\n",
        "    'NumberofDaysofIntercourse': [number_of_days_of_intercourse],\n",
        "    'IntercourseInFertileWindow': [intercourse_in_fertile_window],\n",
        "    'UnusualBleeding': [unusual_bleeding]\n",
        "})\n",
        "\n",
        "# Prediction with the model\n",
        "predicted_length = model.predict(input_data)\n",
        "rounded_length = round(predicted_length.item())  # Round the prediction\n",
        "\n",
        "print(f'Predicted Menstrual Cycle Length: {rounded_length} days')\n",
        "\n"
      ]
    }
  ],
  "metadata": {
    "colab": {
      "provenance": []
    },
    "kernelspec": {
      "display_name": "Python 3",
      "name": "python3"
    },
    "language_info": {
      "codemirror_mode": {
        "name": "ipython",
        "version": 3
      },
      "file_extension": ".py",
      "mimetype": "text/x-python",
      "name": "python",
      "nbconvert_exporter": "python",
      "pygments_lexer": "ipython3",
      "version": "3.10.0"
    }
  },
  "nbformat": 4,
  "nbformat_minor": 0
}
